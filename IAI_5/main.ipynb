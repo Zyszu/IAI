{
 "cells": [
  {
   "cell_type": "code",
   "execution_count": 1,
   "metadata": {},
   "outputs": [
    {
     "name": "stdout",
     "output_type": "stream",
     "text": [
      "tf.Tensor(-432.84055, shape=(), dtype=float32)\n"
     ]
    }
   ],
   "source": [
    "import tensorflow as tf\n",
    "print(tf.reduce_sum(tf.random.normal([1000, 1000])))"
   ]
  },
  {
   "cell_type": "code",
   "execution_count": null,
   "metadata": {},
   "outputs": [
    {
     "name": "stdout",
     "output_type": "stream",
     "text": [
      "Epoch 1/5\n",
      "\u001b[1m1875/1875\u001b[0m \u001b[32m━━━━━━━━━━━━━━━━━━━━\u001b[0m\u001b[37m\u001b[0m \u001b[1m1s\u001b[0m 619us/step - accuracy: 0.8575 - loss: 0.4874\n",
      "Epoch 2/5\n",
      "\u001b[1m1875/1875\u001b[0m \u001b[32m━━━━━━━━━━━━━━━━━━━━\u001b[0m\u001b[37m\u001b[0m \u001b[1m1s\u001b[0m 606us/step - accuracy: 0.9550 - loss: 0.1519\n",
      "Epoch 3/5\n",
      "\u001b[1m1875/1875\u001b[0m \u001b[32m━━━━━━━━━━━━━━━━━━━━\u001b[0m\u001b[37m\u001b[0m \u001b[1m1s\u001b[0m 587us/step - accuracy: 0.9674 - loss: 0.1097\n",
      "Epoch 4/5\n",
      "\u001b[1m1875/1875\u001b[0m \u001b[32m━━━━━━━━━━━━━━━━━━━━\u001b[0m\u001b[37m\u001b[0m \u001b[1m1s\u001b[0m 563us/step - accuracy: 0.9732 - loss: 0.0846\n",
      "Epoch 5/5\n",
      "\u001b[1m1875/1875\u001b[0m \u001b[32m━━━━━━━━━━━━━━━━━━━━\u001b[0m\u001b[37m\u001b[0m \u001b[1m1s\u001b[0m 562us/step - accuracy: 0.9757 - loss: 0.0762\n",
      "\u001b[1m313/313\u001b[0m \u001b[32m━━━━━━━━━━━━━━━━━━━━\u001b[0m\u001b[37m\u001b[0m \u001b[1m0s\u001b[0m 313us/step - accuracy: 0.9753 - loss: 0.0853\n",
      "Test accuracy: 0.9783999919891357\n"
     ]
    }
   ],
   "source": [
    "import struct\n",
    "import numpy as np\n",
    "import tensorflow as tf\n",
    "\n",
    "path = 'data/'\n",
    "\n",
    "# Function to load MNIST images\n",
    "def load_mnist_images(file_path):\n",
    "    with open(file_path, 'rb') as f:\n",
    "        # Read the magic number and metadata\n",
    "        magic, num_images, rows, cols = struct.unpack('>IIII', f.read(16))\n",
    "        if magic != 2051:  # Magic number for image files\n",
    "            raise ValueError(f\"Invalid magic number {magic} in file: {file_path}\")\n",
    "        \n",
    "        # Read image data and reshape\n",
    "        image_data = np.frombuffer(f.read(), dtype=np.uint8)\n",
    "        images = image_data.reshape((num_images, rows, cols))\n",
    "        return images / 255.0  # Normalize pixel values to [0, 1]\n",
    "\n",
    "# Function to load MNIST labels\n",
    "def load_mnist_labels(file_path):\n",
    "    with open(file_path, 'rb') as f:\n",
    "        # Read the magic number and metadata\n",
    "        magic, num_labels = struct.unpack('>II', f.read(8))\n",
    "        if magic != 2049:  # Magic number for label files\n",
    "            raise ValueError(f\"Invalid magic number {magic} in file: {file_path}\")\n",
    "        \n",
    "        # Read label data\n",
    "        labels = np.frombuffer(f.read(), dtype=np.uint8)\n",
    "        return labels\n",
    "\n",
    "# Load training and test data\n",
    "train_images = load_mnist_images(path + 'data/train-images.idx3-ubyte')\n",
    "train_labels = load_mnist_labels(path + 'data/train-labels.idx1-ubyte')\n",
    "test_images = load_mnist_images(path + 'data/t10k-images.idx3-ubyte')\n",
    "test_labels = load_mnist_labels(path + 'data/t10k-labels.idx1-ubyte')\n",
    "\n",
    "# Build the model\n",
    "model = tf.keras.Sequential([\n",
    "    tf.keras.layers.Flatten(input_shape=(28, 28)),  # Flatten 28x28 images into 1D array\n",
    "    tf.keras.layers.Dense(128, activation='relu'),  # Fully connected layer with 128 neurons\n",
    "    tf.keras.layers.Dropout(0.2),                   # Dropout layer to prevent overfitting\n",
    "    tf.keras.layers.Dense(10, activation='softmax') # Output layer with 10 neurons (digits 0-9)\n",
    "])\n",
    "\n",
    "# Compile the model\n",
    "model.compile(optimizer='adam',\n",
    "              loss='sparse_categorical_crossentropy',\n",
    "              metrics=['accuracy'])\n",
    "\n",
    "# Train the model\n",
    "model.fit(train_images, train_labels, epochs=5)\n",
    "\n",
    "# Evaluate the model\n",
    "test_loss, test_acc = model.evaluate(test_images, test_labels)\n",
    "print(f\"Test accuracy: {test_acc}\")\n"
   ]
  }
 ],
 "metadata": {
  "kernelspec": {
   "display_name": ".venv_3_12",
   "language": "python",
   "name": "python3"
  },
  "language_info": {
   "codemirror_mode": {
    "name": "ipython",
    "version": 3
   },
   "file_extension": ".py",
   "mimetype": "text/x-python",
   "name": "python",
   "nbconvert_exporter": "python",
   "pygments_lexer": "ipython3",
   "version": "3.12.8"
  }
 },
 "nbformat": 4,
 "nbformat_minor": 2
}
