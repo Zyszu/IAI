{
 "cells": [
  {
   "cell_type": "code",
   "execution_count": 9,
   "metadata": {},
   "outputs": [],
   "source": [
    "from tank import TankController\n",
    "\n",
    "def move_tank_forward():\n",
    "    # Create an instance of the TankController\n",
    "    tank = TankController()\n",
    "\n",
    "    # Initialize the tank handles\n",
    "    tank.initialize_handles()\n",
    "\n",
    "    # Move the tank forward with specific velocities and force\n",
    "    try:\n",
    "        left_velocity = 5.0  # Forward velocity for left wheels\n",
    "        right_velocity = 5.0  # Forward velocity for right wheels\n",
    "        force = 50.0  # Force to apply on all wheels\n",
    "\n",
    "        print(\"Moving the tank forward...\")\n",
    "        tank.control_tank(left_velocity, right_velocity, force)\n",
    "        print(\"Tank is moving forward.\")\n",
    "\n",
    "    except Exception as e:\n",
    "        print(f\"Error while moving the tank forward: {e}\")"
   ]
  },
  {
   "cell_type": "code",
   "execution_count": 10,
   "metadata": {},
   "outputs": [
    {
     "name": "stdout",
     "output_type": "stream",
     "text": [
      "Initialization error: Error during communication: name 'json' is not defined\n",
      "Moving the tank forward...\n",
      "Control error: Error during communication: name 'json' is not defined\n",
      "Tank is moving forward.\n"
     ]
    }
   ],
   "source": [
    "move_tank_forward()"
   ]
  },
  {
   "cell_type": "code",
   "execution_count": null,
   "metadata": {},
   "outputs": [],
   "source": [
    "response = self.socket.recv()\n",
    "print(response)  # To inspect the raw bytes received"
   ]
  },
  {
   "cell_type": "code",
   "execution_count": 7,
   "metadata": {},
   "outputs": [
    {
     "name": "stdout",
     "output_type": "stream",
     "text": [
      "Sending test request to CoppeliaSim...\n",
      "Received response: b\"\\xa2gsuccess\\xf4eerrorxIThe client ZeroMQ remote API version does not match CoppeliaSim's version\"\n",
      "Error decoding response. Raw response: b\"\\xa2gsuccess\\xf4eerrorxIThe client ZeroMQ remote API version does not match CoppeliaSim's version\"\n"
     ]
    }
   ],
   "source": [
    "import zmq\n",
    "\n",
    "def test_connection(server_address=\"tcp://127.0.0.1:23000\"):\n",
    "    try:\n",
    "        # Create a ZeroMQ context and socket\n",
    "        context = zmq.Context()\n",
    "        socket = context.socket(zmq.REQ)\n",
    "        socket.connect(server_address)\n",
    "\n",
    "        # Send a test request to CoppeliaSim\n",
    "        test_request = {\n",
    "            \"function\": \"sim.getObjectHandle\",\n",
    "            \"inputString\": [\"dummy_test\"],\n",
    "            \"inputInt\": [],\n",
    "            \"inputFloat\": [],\n",
    "            \"inputBool\": []\n",
    "        }\n",
    "\n",
    "        print(\"Sending test request to CoppeliaSim...\")\n",
    "        socket.send_json(test_request)\n",
    "\n",
    "        # Receive and print the response\n",
    "        response = socket.recv()\n",
    "        print(\"Received response:\", response)\n",
    "\n",
    "        try:\n",
    "            decoded_response = response.decode(\"utf-8\")\n",
    "            print(\"Decoded JSON response:\", decoded_response)\n",
    "        except UnicodeDecodeError:\n",
    "            print(\"Error decoding response. Raw response:\", response)\n",
    "\n",
    "    except Exception as e:\n",
    "        print(f\"Error testing connection: {e}\")\n",
    "\n",
    "test_connection()\n",
    "\n"
   ]
  },
  {
   "cell_type": "code",
   "execution_count": 8,
   "metadata": {},
   "outputs": [
    {
     "name": "stdout",
     "output_type": "stream",
     "text": [
      "Sending version check request to CoppeliaSim...\n"
     ]
    },
    {
     "ename": "KeyboardInterrupt",
     "evalue": "",
     "output_type": "error",
     "traceback": [
      "\u001b[0;31m---------------------------------------------------------------------------\u001b[0m",
      "\u001b[0;31mKeyboardInterrupt\u001b[0m                         Traceback (most recent call last)",
      "Cell \u001b[0;32mIn[8], line 34\u001b[0m\n\u001b[1;32m     31\u001b[0m     \u001b[38;5;28;01mexcept\u001b[39;00m \u001b[38;5;167;01mException\u001b[39;00m \u001b[38;5;28;01mas\u001b[39;00m e:\n\u001b[1;32m     32\u001b[0m         \u001b[38;5;28mprint\u001b[39m(\u001b[38;5;124mf\u001b[39m\u001b[38;5;124m\"\u001b[39m\u001b[38;5;124mError during version check: \u001b[39m\u001b[38;5;132;01m{\u001b[39;00me\u001b[38;5;132;01m}\u001b[39;00m\u001b[38;5;124m\"\u001b[39m)\n\u001b[0;32m---> 34\u001b[0m version_info \u001b[38;5;241m=\u001b[39m \u001b[43mcheck_version\u001b[49m\u001b[43m(\u001b[49m\u001b[43m)\u001b[49m\n\u001b[1;32m     35\u001b[0m \u001b[38;5;28;01mif\u001b[39;00m version_info:\n\u001b[1;32m     36\u001b[0m     \u001b[38;5;28mprint\u001b[39m(\u001b[38;5;124m\"\u001b[39m\u001b[38;5;124mZeroMQ Remote API version:\u001b[39m\u001b[38;5;124m\"\u001b[39m, version_info\u001b[38;5;241m.\u001b[39mget(\u001b[38;5;124m\"\u001b[39m\u001b[38;5;124mversion\u001b[39m\u001b[38;5;124m\"\u001b[39m, \u001b[38;5;124m\"\u001b[39m\u001b[38;5;124mUnknown\u001b[39m\u001b[38;5;124m\"\u001b[39m))\n",
      "Cell \u001b[0;32mIn[8], line 25\u001b[0m, in \u001b[0;36mcheck_version\u001b[0;34m(server_address)\u001b[0m\n\u001b[1;32m     22\u001b[0m socket\u001b[38;5;241m.\u001b[39msend(packed_request)  \u001b[38;5;66;03m# Send the encoded request\u001b[39;00m\n\u001b[1;32m     24\u001b[0m \u001b[38;5;66;03m# Receive and decode the response\u001b[39;00m\n\u001b[0;32m---> 25\u001b[0m response \u001b[38;5;241m=\u001b[39m \u001b[43msocket\u001b[49m\u001b[38;5;241;43m.\u001b[39;49m\u001b[43mrecv\u001b[49m\u001b[43m(\u001b[49m\u001b[43m)\u001b[49m\n\u001b[1;32m     26\u001b[0m decoded_response \u001b[38;5;241m=\u001b[39m msgpack\u001b[38;5;241m.\u001b[39munpackb(response, raw\u001b[38;5;241m=\u001b[39m\u001b[38;5;28;01mFalse\u001b[39;00m)  \u001b[38;5;66;03m# Decode to a Python dictionary\u001b[39;00m\n\u001b[1;32m     28\u001b[0m \u001b[38;5;28mprint\u001b[39m(\u001b[38;5;124m\"\u001b[39m\u001b[38;5;124mDecoded response:\u001b[39m\u001b[38;5;124m\"\u001b[39m, decoded_response)\n",
      "File \u001b[0;32m_zmq.py:1156\u001b[0m, in \u001b[0;36mzmq.backend.cython._zmq.Socket.recv\u001b[0;34m()\u001b[0m\n",
      "File \u001b[0;32m_zmq.py:1191\u001b[0m, in \u001b[0;36mzmq.backend.cython._zmq.Socket.recv\u001b[0;34m()\u001b[0m\n",
      "File \u001b[0;32m_zmq.py:1278\u001b[0m, in \u001b[0;36mzmq.backend.cython._zmq._recv_copy\u001b[0;34m()\u001b[0m\n",
      "File \u001b[0;32m_zmq.py:160\u001b[0m, in \u001b[0;36mzmq.backend.cython._zmq._check_rc\u001b[0;34m()\u001b[0m\n",
      "\u001b[0;31mKeyboardInterrupt\u001b[0m: "
     ]
    }
   ],
   "source": [
    "import zmq\n",
    "import msgpack\n",
    "\n",
    "def check_version(server_address=\"tcp://127.0.0.1:23000\"):\n",
    "    try:\n",
    "        # Set up the ZeroMQ connection\n",
    "        context = zmq.Context()\n",
    "        socket = context.socket(zmq.REQ)\n",
    "        socket.connect(server_address)\n",
    "\n",
    "        # Properly format the request with MessagePack\n",
    "        request = {\n",
    "            \"function\": \"zmqRemoteApi.info\",  # Query the server information\n",
    "            \"inputInt\": [],\n",
    "            \"inputFloat\": [],\n",
    "            \"inputString\": [],\n",
    "            \"inputBool\": []\n",
    "        }\n",
    "        packed_request = msgpack.packb(request, use_bin_type=True)  # Use proper MessagePack encoding\n",
    "\n",
    "        print(\"Sending version check request to CoppeliaSim...\")\n",
    "        socket.send(packed_request)  # Send the encoded request\n",
    "\n",
    "        # Receive and decode the response\n",
    "        response = socket.recv()\n",
    "        decoded_response = msgpack.unpackb(response, raw=False)  # Decode to a Python dictionary\n",
    "\n",
    "        print(\"Decoded response:\", decoded_response)\n",
    "        return decoded_response\n",
    "\n",
    "    except Exception as e:\n",
    "        print(f\"Error during version check: {e}\")\n",
    "\n",
    "version_info = check_version()\n",
    "if version_info:\n",
    "    print(\"ZeroMQ Remote API version:\", version_info.get(\"version\", \"Unknown\"))\n"
   ]
  }
 ],
 "metadata": {
  "kernelspec": {
   "display_name": ".venv_3_12",
   "language": "python",
   "name": "python3"
  },
  "language_info": {
   "codemirror_mode": {
    "name": "ipython",
    "version": 3
   },
   "file_extension": ".py",
   "mimetype": "text/x-python",
   "name": "python",
   "nbconvert_exporter": "python",
   "pygments_lexer": "ipython3",
   "version": "3.12.8"
  }
 },
 "nbformat": 4,
 "nbformat_minor": 2
}
